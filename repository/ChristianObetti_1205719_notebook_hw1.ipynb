{
 "cells": [
  {
   "cell_type": "markdown",
   "metadata": {},
   "source": [
    "# Homework 1"
   ]
  },
  {
   "cell_type": "markdown",
   "metadata": {},
   "source": [
    "## Valutazione run 1\n",
    "- Stoplist, Porter Stemmer, BM25"
   ]
  },
  {
   "cell_type": "code",
   "execution_count": 374,
   "metadata": {},
   "outputs": [
    {
     "name": "stdout",
     "output_type": "stream",
     "text": [
      "Mean Average Precision:  0.2125\n",
      "RPrecision:  0.2705\n",
      "Precision at 10:  0.4820\n"
     ]
    }
   ],
   "source": [
    "eval_run_1 = open('run1/eval/BM25b0.75_0.txt','r')\n",
    "lines = eval_run_1.readlines()\n",
    "# stampo i valori map, rprec e precision @ 10 \n",
    "map_1 = lines[1355].split()\n",
    "print(\"Mean Average Precision: \",map_1[2])\n",
    "rprec_1 = lines[1357].split()\n",
    "print(\"RPrecision: \",rprec_1[2])\n",
    "prec_at_10_1 = lines[1372].split()\n",
    "print(\"Precision at 10: \",prec_at_10_1[2])"
   ]
  },
  {
   "cell_type": "markdown",
   "metadata": {},
   "source": [
    "## Valutazione run 2\n",
    "- Stoplist, Porter Stemmer, TF*IDF"
   ]
  },
  {
   "cell_type": "code",
   "execution_count": 375,
   "metadata": {},
   "outputs": [
    {
     "name": "stdout",
     "output_type": "stream",
     "text": [
      "Mean Average Precision:  0.2123\n",
      "RPrecision:  0.2725\n",
      "Precision at 10:  0.4780\n"
     ]
    }
   ],
   "source": [
    "eval_run_2 = open('run2/eval/TF_IDF_1.txt','r')\n",
    "lines = eval_run_2.readlines()\n",
    "# stampo i valori map, rprec e precision @ 10 \n",
    "map_2 = lines[1355].split()\n",
    "print(\"Mean Average Precision: \",map_2[2])\n",
    "rprec_2 = lines[1357].split()\n",
    "print(\"RPrecision: \",rprec_2[2])\n",
    "prec_at_10_2 = lines[1372].split()\n",
    "print(\"Precision at 10: \",prec_at_10_2[2])"
   ]
  },
  {
   "cell_type": "markdown",
   "metadata": {},
   "source": [
    "## Valutazione run 3\n",
    "- No stoplist, Porter Stemmer, BM25"
   ]
  },
  {
   "cell_type": "code",
   "execution_count": 376,
   "metadata": {},
   "outputs": [
    {
     "name": "stdout",
     "output_type": "stream",
     "text": [
      "Mean Average Precision:  0.1245\n",
      "RPrecision:  0.1701\n",
      "Precision at 10:  0.3020\n"
     ]
    }
   ],
   "source": [
    "eval_run_3 = open('run3/eval/BM25b0.75_2.txt','r')\n",
    "lines = eval_run_3.readlines()\n",
    "# stampo i valori map, rprec e precision @ 10 \n",
    "map_3 = lines[1355].split()\n",
    "print(\"Mean Average Precision: \",map_3[2])\n",
    "rprec_3 = lines[1357].split()\n",
    "print(\"RPrecision: \",rprec_3[2])\n",
    "prec_at_10_3 = lines[1372].split()\n",
    "print(\"Precision at 10: \",prec_at_10_3[2])"
   ]
  },
  {
   "cell_type": "markdown",
   "metadata": {},
   "source": [
    "## Valutazione run 4\n",
    "- No stoplist, no Porter Stemmer, TF*IDF"
   ]
  },
  {
   "cell_type": "code",
   "execution_count": 377,
   "metadata": {},
   "outputs": [
    {
     "name": "stdout",
     "output_type": "stream",
     "text": [
      "Mean Average Precision:  0.1876\n",
      "RPrecision:  0.2485\n",
      "Precision at 10:  0.4260\n"
     ]
    }
   ],
   "source": [
    "eval_run_4 = open('run4/eval/TF_IDF_3.txt','r')\n",
    "lines = eval_run_4.readlines()\n",
    "# stampo i valori map, rprec e precision @ 10 \n",
    "map_4 = lines[1355].split()\n",
    "print(\"Mean Average Precision: \",map_4[2])\n",
    "rprec_4 = lines[1357].split()\n",
    "print(\"RPrecision: \",rprec_4[2])\n",
    "prec_at_10_4 = lines[1372].split()\n",
    "print(\"Precision at 10: \",prec_at_10_4[2])"
   ]
  },
  {
   "cell_type": "code",
   "execution_count": 378,
   "metadata": {},
   "outputs": [],
   "source": [
    "import matplotlib.pyplot as plt\n",
    "import pandas as pd\n",
    "\n",
    "# matrice che associa ad ogni run il rispettivo map\n",
    "map_list = np.array([\n",
    "    [1,float(map_1[2])],\n",
    "    [2,float(map_2[2])],\n",
    "    [3,float(map_3[2])],\n",
    "    [4,float(map_4[2])]\n",
    "])\n",
    "# matrice che associa ad ogni run il rispetivo rprec\n",
    "rprec_list = np.array([\n",
    "    [1,float(rprec_1[2])],\n",
    "    [2,float(rprec_2[2])],\n",
    "    [3,float(rprec_3[2])],\n",
    "    [4,float(rprec_4[2])]\n",
    "])\n",
    "\n",
    "# matrice che associa ad ogni run il rispettivo precision at 10\n",
    "prec_at_10_list = np.array([\n",
    "    [1,float(prec_at_10_1[2])],\n",
    "    [2,float(prec_at_10_2[2])],\n",
    "    [3,float(prec_at_10_3[2])],\n",
    "    [4,float(prec_at_10_4[2])]\n",
    "])"
   ]
  },
  {
   "cell_type": "code",
   "execution_count": 379,
   "metadata": {},
   "outputs": [
    {
     "data": {
      "text/html": [
       "<div>\n",
       "<style scoped>\n",
       "    .dataframe tbody tr th:only-of-type {\n",
       "        vertical-align: middle;\n",
       "    }\n",
       "\n",
       "    .dataframe tbody tr th {\n",
       "        vertical-align: top;\n",
       "    }\n",
       "\n",
       "    .dataframe thead th {\n",
       "        text-align: right;\n",
       "    }\n",
       "</style>\n",
       "<table border=\"1\" class=\"dataframe\">\n",
       "  <thead>\n",
       "    <tr style=\"text-align: right;\">\n",
       "      <th></th>\n",
       "      <th>MAP</th>\n",
       "      <th>RPrecision</th>\n",
       "      <th>Precision at 10</th>\n",
       "    </tr>\n",
       "    <tr>\n",
       "      <th>Run</th>\n",
       "      <th></th>\n",
       "      <th></th>\n",
       "      <th></th>\n",
       "    </tr>\n",
       "  </thead>\n",
       "  <tbody>\n",
       "    <tr>\n",
       "      <th>1.0</th>\n",
       "      <td>0.2125</td>\n",
       "      <td>0.2705</td>\n",
       "      <td>0.482</td>\n",
       "    </tr>\n",
       "    <tr>\n",
       "      <th>2.0</th>\n",
       "      <td>0.2123</td>\n",
       "      <td>0.2725</td>\n",
       "      <td>0.478</td>\n",
       "    </tr>\n",
       "    <tr>\n",
       "      <th>3.0</th>\n",
       "      <td>0.1245</td>\n",
       "      <td>0.1701</td>\n",
       "      <td>0.302</td>\n",
       "    </tr>\n",
       "    <tr>\n",
       "      <th>4.0</th>\n",
       "      <td>0.1876</td>\n",
       "      <td>0.2485</td>\n",
       "      <td>0.426</td>\n",
       "    </tr>\n",
       "  </tbody>\n",
       "</table>\n",
       "</div>"
      ],
      "text/plain": [
       "        MAP  RPrecision  Precision at 10\n",
       "Run                                     \n",
       "1.0  0.2125      0.2705            0.482\n",
       "2.0  0.2123      0.2725            0.478\n",
       "3.0  0.1245      0.1701            0.302\n",
       "4.0  0.1876      0.2485            0.426"
      ]
     },
     "execution_count": 379,
     "metadata": {},
     "output_type": "execute_result"
    }
   ],
   "source": [
    "df = pd.DataFrame({\n",
    "    'Run' : map_list[:,0],\n",
    "    'MAP' : map_list[:,1],\n",
    "    'RPrecision' : rprec_list[:,1],\n",
    "    'Precision at 10' : prec_at_10_list[:,1]\n",
    "})\n",
    "df.set_index('Run',inplace=True)\n",
    "#df.style.apply(highlight_max,subset=['MAP','RPrecision','Precision at 10'])\n",
    "\n",
    "df"
   ]
  },
  {
   "cell_type": "code",
   "execution_count": 380,
   "metadata": {},
   "outputs": [
    {
     "data": {
      "image/png": "[encoded data removed]",
      "text/plain": [
       "<Figure size 1080x648 with 1 Axes>"
      ]
     },
     "metadata": {},
     "output_type": "display_data"
    }
   ],
   "source": [
    "plt.figure(figsize=[15,9])\n",
    "# plot per i map\n",
    "plt.plot(map_list[:,0],map_list[:,1],'ro')\n",
    "# plot per gli rprec\n",
    "plt.plot(rprec_list[:,0],rprec_list[:,1],'go')\n",
    "# plot per i prec at 10\n",
    "plt.plot(prec_at_10_list[:,0],prec_at_10_list[:,1],'bo')\n",
    "plt.axis([0,5,0.10,0.6])\n",
    "plt.legend(['Map','Rprecision','Precision at 10'],fontsize='x-large')\n",
    "plt.show()"
   ]
  },
  {
   "cell_type": "markdown",
   "metadata": {},
   "source": [
    "La tabella è il grafico evidenziano i risultati delle diverse run. Come si può vedere, i risultati migliori si sono ottenuti con le prime due run, mentre la run 3 è quella che ha ottenuto i risultati peggiori."
   ]
  },
  {
   "cell_type": "markdown",
   "metadata": {},
   "source": [
    "## Test statistico Anova 1-way\n",
    "Boxplot delle run"
   ]
  },
  {
   "cell_type": "code",
   "execution_count": 381,
   "metadata": {},
   "outputs": [],
   "source": [
    "import numpy as np\n",
    "import scipy.stats as stats\n",
    "\n",
    "#definisco una funzione per estrarre i valori di precision di cui sono interessato dai rispettivi\n",
    "#file .eval\n",
    "def eval_extractor(path,n_topics,prec_idx):\n",
    "    # apro file in lettura\n",
    "    file = open(path,'r')\n",
    "    lines = file.readlines()\n",
    "    # inizializzo array vuota\n",
    "    precs = np.zeros(n_topics)\n",
    "    # itero le righe del file estraendo tutte le precision\n",
    "    for i in range(len(precs)):\n",
    "        raw = lines[prec_idx].split()\n",
    "        precs[i] = float(raw[2])\n",
    "        prec_idx += 27\n",
    "    # restituisco l'array riempito\n",
    "    return precs"
   ]
  },
  {
   "cell_type": "code",
   "execution_count": 382,
   "metadata": {},
   "outputs": [
    {
     "data": {
      "image/png": "[encoded data removed]",
      "text/plain": [
       "<Figure size 1080x720 with 1 Axes>"
      ]
     },
     "metadata": {},
     "output_type": "display_data"
    }
   ],
   "source": [
    "run_1 = eval_extractor('run1/eval/BM25b0.75_0.txt',50,3)\n",
    "run_2 = eval_extractor('run2/eval/TF_IDF_1.txt',50,3)\n",
    "run_3 = eval_extractor('run3/eval/BM25b0.75_2.txt',50,3)\n",
    "run_4 = eval_extractor('run4/eval/TF_IDF_3.txt',50,3)\n",
    "plt.figure(figsize=[15,10])\n",
    "plt.boxplot([run_1,run_2,run_3,run_4], labels=['run1','run2','run3','run4'])\n",
    "plt.show()"
   ]
  },
  {
   "cell_type": "markdown",
   "metadata": {},
   "source": [
    "Tramite i boxplot è possibile rappresentare le diverse distribuzioni normali in maniera più comoda.Tuttavia non è sufficiente per concludere che siano diverse l'una dalle altre, motivo per il quale si ricorre al test ANOVA ad una via."
   ]
  },
  {
   "cell_type": "markdown",
   "metadata": {},
   "source": [
    "Il test ANOVA permette di verificare se due o più sistemi sono uguali, partendo dall'ipotesi nulla, ovvero che tutti i sistemi siano uguali: <br>\n",
    "> $H_{0} : \\mu_{1} = \\mu_{2} = \\mu_{3} = \\mu_{4}$  \n",
    "\n",
    "Se l'ipotesi nulla viene rifiutata, significa che vi è una differenza significativa fra almeno due sistemi. Nel test ANOVA questa condizione si verifica quando il valore di P è inferiore a quello di $\\alpha$ , con $\\alpha=0.05$ tipicamente."
   ]
  },
  {
   "cell_type": "code",
   "execution_count": 383,
   "metadata": {},
   "outputs": [
    {
     "name": "stdout",
     "output_type": "stream",
     "text": [
      "Test Anova 1-way:\n",
      "Valore di F:  3.278594613256783\n",
      "Valore di P:  0.022075545923528662\n"
     ]
    }
   ],
   "source": [
    "# tramite la funzione f_oneway() della libreria scipy.stats eseguo il test anova 1-way\n",
    "stats,p = stats.f_oneway(run_1,run_2,run_3,run_4)\n",
    "\n",
    "print('Test Anova 1-way:')\n",
    "print('Valore di F: ',stats)\n",
    "print('Valore di P: ',p)"
   ]
  },
  {
   "cell_type": "markdown",
   "metadata": {},
   "source": [
    "In base ai risultati ottenuti dal test ANOVA ad una via, posso già concludere che essendo P < 0.05, l'ipotesi nulla viene rifiutata e quindi almeno una delle run è diversa da un'altra run. Per comprendere quali sistemi appartengono al 'top group', si rende necessario il test di Tukey, il quale permette di stabilire con esattezza quali sistemi hanno permesso di violare l'ipotesi nulla."
   ]
  },
  {
   "cell_type": "code",
   "execution_count": 384,
   "metadata": {},
   "outputs": [
    {
     "name": "stdout",
     "output_type": "stream",
     "text": [
      "Multiple Comparison of Means - Tukey HSD,FWER=0.05\n",
      "============================================\n",
      "group1 group2 meandiff  lower  upper  reject\n",
      "--------------------------------------------\n",
      " 3.0    4.0    0.0632  -0.0208 0.1472 False \n",
      " 3.0    2.0    0.0878   0.0038 0.1718  True \n",
      " 3.0    1.0    0.0881   0.004  0.1721  True \n",
      " 4.0    2.0    0.0246  -0.0594 0.1087 False \n",
      " 4.0    1.0    0.0249  -0.0591 0.1089 False \n",
      " 2.0    1.0    0.0003  -0.0838 0.0843 False \n",
      "--------------------------------------------\n"
     ]
    },
    {
     "data": {
      "image/png": "[encoded data removed]",
      "text/plain": [
       "<Figure size 864x720 with 1 Axes>"
      ]
     },
     "metadata": {},
     "output_type": "display_data"
    }
   ],
   "source": [
    "# importo i metodi necessari per eseguire il test tukey hsd dalla libreria statsmodels\n",
    "from statsmodels.stats.multicomp import pairwise_tukeyhsd\n",
    "from statsmodels.stats.multicomp import MultiComparison\n",
    "\n",
    "# riordino la lista che contiene i map delle run in modo crescente\n",
    "# la funzione MultiComparison ordina graficamente in modo diverso rispetto all'analoga funzione\n",
    "# matlab spiegata a lezione, dove gli indici venivano ordinati in modo decrescente\n",
    "sorted_map_list = map_list[map_list[:,1].argsort()]\n",
    "# unisco tutte le precision dei topics delle diverse run in un unico array\n",
    "scores = np.concatenate((run_1,run_2,run_3,run_4))\n",
    "# inizializzo e creo un array con i diversi labels\n",
    "labels = np.zeros(200)\n",
    "labels[:50] = 1\n",
    "labels[50:100] = 2\n",
    "labels[100:150] = 3\n",
    "labels[150:] = 4\n",
    "# unisco le array labels e scores (operazione non strettamente necessaria, ma in questo modo costruisco \n",
    "# un'unica matrice che contiene nella prima colonna i labels delle run e nella seconda tutti i valori di precision)\n",
    "data = np.column_stack((labels,scores))\n",
    "\n",
    "# oggetto che permette il confronto dei dati delle diverse run\n",
    "mc = MultiComparison(data[:,1],data[:,0],group_order=sorted_map_list[:,0])\n",
    "# test tukey hsd (il parametro alpha=0.05 è di default, ma potrebbe essere cambiato)\n",
    "result = mc.tukeyhsd()\n",
    "# plot del test tukey hsd\n",
    "result.plot_simultaneous(comparison_name=3,figsize=(12,10))\n",
    "# stampa della tabella con i vari confronti tra le run e la verifica che la null hypothesis sia stata o no rifiuta\n",
    "# segue commento\n",
    "print(result)"
   ]
  },
  {
   "cell_type": "markdown",
   "metadata": {},
   "source": [
    "La tabella mostra che l'ipotesi nulla è rifiutata nel confronto fra le run 2 e 3 e fra le run 1 e 3. Il risultato è ulteriormente evidenziato nel plot. Si può quindi concludere che la run 3 non appartenga sicuramete al top group. Per quanto riguarda la run 4, essa non viola l'ipotesi nulla con nessuna delle altre run, tuttavia il suo intervallo di confidenza evidenzia una certa differenza con le run 1 e 2 che con la run 3. Per questo motivo, si potrebbe non considerarla appartenente al top group che quindi è formato dalle run 1 e 2, che anche nei test precedenti avevano dimostrato risultati migliori."
   ]
  }
 ],
 "metadata": {
  "kernelspec": {
   "display_name": "Python 3",
   "language": "python",
   "name": "python3"
  },
  "language_info": {
   "codemirror_mode": {
    "name": "ipython",
    "version": 3
   },
   "file_extension": ".py",
   "mimetype": "text/x-python",
   "name": "python",
   "nbconvert_exporter": "python",
   "pygments_lexer": "ipython3",
   "version": "3.6.5"
  }
 },
 "nbformat": 4,
 "nbformat_minor": 2
}
