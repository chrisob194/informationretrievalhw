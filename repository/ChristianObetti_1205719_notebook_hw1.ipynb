{
 "cells": [
  {
   "cell_type": "markdown",
   "metadata": {},
   "source": [
    "# Homework 1"
   ]
  },
  {
   "cell_type": "markdown",
   "metadata": {},
   "source": [
    "## Valutazione run 1\n",
    "- Stoplist, Porter Stemmer, BM25"
   ]
  },
  {
   "cell_type": "code",
   "execution_count": 53,
   "metadata": {},
   "outputs": [
    {
     "name": "stdout",
     "output_type": "stream",
     "text": [
      "Mean Average Precision:  0.2125\n",
      "RPrecision:  0.2705\n",
      "Precision at 10:  0.4820\n"
     ]
    }
   ],
   "source": [
    "eval_run_1 = open('run1/eval/BM25b0.75_0.txt','r')\n",
    "lines = eval_run_1.readlines()\n",
    "# stampo i valori map, rprec e precision @ 10 \n",
    "map_1 = lines[1355].split()\n",
    "print(\"Mean Average Precision: \",map_1[2])\n",
    "rprec_1 = lines[1357].split()\n",
    "print(\"RPrecision: \",rprec_1[2])\n",
    "prec_at_10_1 = lines[1372].split()\n",
    "print(\"Precision at 10: \",prec_at_10_1[2])"
   ]
  },
  {
   "cell_type": "markdown",
   "metadata": {},
   "source": [
    "## Valutazione run 2\n",
    "- Stoplist, Porter Stemmer, TF*IDF"
   ]
  },
  {
   "cell_type": "code",
   "execution_count": 54,
   "metadata": {},
   "outputs": [
    {
     "name": "stdout",
     "output_type": "stream",
     "text": [
      "Mean Average Precision:  0.2123\n",
      "RPrecision:  0.2725\n",
      "Precision at 10:  0.4780\n"
     ]
    }
   ],
   "source": [
    "eval_run_2 = open('run2/eval/TF_IDF_1.txt','r')\n",
    "lines = eval_run_2.readlines()\n",
    "# stampo i valori map, rprec e precision @ 10 \n",
    "map_2 = lines[1355].split()\n",
    "print(\"Mean Average Precision: \",map_2[2])\n",
    "rprec_2 = lines[1357].split()\n",
    "print(\"RPrecision: \",rprec_2[2])\n",
    "prec_at_10_2 = lines[1372].split()\n",
    "print(\"Precision at 10: \",prec_at_10_2[2])"
   ]
  },
  {
   "cell_type": "markdown",
   "metadata": {},
   "source": [
    "## Valutazione run 3\n",
    "- No stoplist, Porter Stemmer, BM25"
   ]
  },
  {
   "cell_type": "code",
   "execution_count": 55,
   "metadata": {},
   "outputs": [
    {
     "name": "stdout",
     "output_type": "stream",
     "text": [
      "Mean Average Precision:  0.1245\n",
      "RPrecision:  0.1701\n",
      "Precision at 10:  0.3020\n"
     ]
    }
   ],
   "source": [
    "eval_run_3 = open('run3/eval/BM25b0.75_2.txt','r')\n",
    "lines = eval_run_3.readlines()\n",
    "# stampo i valori map, rprec e precision @ 10 \n",
    "map_3 = lines[1355].split()\n",
    "print(\"Mean Average Precision: \",map_3[2])\n",
    "rprec_3 = lines[1357].split()\n",
    "print(\"RPrecision: \",rprec_3[2])\n",
    "prec_at_10_3 = lines[1372].split()\n",
    "print(\"Precision at 10: \",prec_at_10_3[2])"
   ]
  },
  {
   "cell_type": "markdown",
   "metadata": {},
   "source": [
    "## Valutazione run 4\n",
    "- No stoplist, no Porter Stemmer, TF*IDF"
   ]
  },
  {
   "cell_type": "code",
   "execution_count": 56,
   "metadata": {},
   "outputs": [
    {
     "name": "stdout",
     "output_type": "stream",
     "text": [
      "Mean Average Precision:  0.1876\n",
      "RPrecision:  0.2485\n",
      "Precision at 10:  0.4260\n"
     ]
    }
   ],
   "source": [
    "eval_run_4 = open('run4/eval/TF_IDF_3.txt','r')\n",
    "lines = eval_run_4.readlines()\n",
    "# stampo i valori map, rprec e precision @ 10 \n",
    "map_4 = lines[1355].split()\n",
    "print(\"Mean Average Precision: \",map_4[2])\n",
    "rprec_4 = lines[1357].split()\n",
    "print(\"RPrecision: \",rprec_4[2])\n",
    "prec_at_10_4 = lines[1372].split()\n",
    "print(\"Precision at 10: \",prec_at_10_4[2])"
   ]
  },
  {
   "cell_type": "code",
   "execution_count": 57,
   "metadata": {},
   "outputs": [],
   "source": [
    "import matplotlib.pyplot as plt\n",
    "import pandas as pd\n",
    "\n",
    "# matrice che associa ad ogni run il rispettivo map\n",
    "map_list = np.array([\n",
    "    [1,float(map_1[2])],\n",
    "    [2,float(map_2[2])],\n",
    "    [3,float(map_3[2])],\n",
    "    [4,float(map_4[2])]\n",
    "])\n",
    "# matrice che associa ad ogni run il rispetivo rprec\n",
    "rprec_list = np.array([\n",
    "    [1,float(rprec_1[2])],\n",
    "    [2,float(rprec_2[2])],\n",
    "    [3,float(rprec_3[2])],\n",
    "    [4,float(rprec_4[2])]\n",
    "])\n",
    "\n",
    "# matrice che associa ad ogni run il rispettivo precision at 10\n",
    "p10_list = np.array([\n",
    "    [1,float(prec_at_10_1[2])],\n",
    "    [2,float(prec_at_10_2[2])],\n",
    "    [3,float(prec_at_10_3[2])],\n",
    "    [4,float(prec_at_10_4[2])]\n",
    "])"
   ]
  },
  {
   "cell_type": "code",
   "execution_count": 58,
   "metadata": {},
   "outputs": [
    {
     "data": {
      "text/html": [
       "<div>\n",
       "<style scoped>\n",
       "    .dataframe tbody tr th:only-of-type {\n",
       "        vertical-align: middle;\n",
       "    }\n",
       "\n",
       "    .dataframe tbody tr th {\n",
       "        vertical-align: top;\n",
       "    }\n",
       "\n",
       "    .dataframe thead th {\n",
       "        text-align: right;\n",
       "    }\n",
       "</style>\n",
       "<table border=\"1\" class=\"dataframe\">\n",
       "  <thead>\n",
       "    <tr style=\"text-align: right;\">\n",
       "      <th></th>\n",
       "      <th>MAP</th>\n",
       "      <th>RPrecision</th>\n",
       "      <th>Precision at 10</th>\n",
       "    </tr>\n",
       "    <tr>\n",
       "      <th>Run</th>\n",
       "      <th></th>\n",
       "      <th></th>\n",
       "      <th></th>\n",
       "    </tr>\n",
       "  </thead>\n",
       "  <tbody>\n",
       "    <tr>\n",
       "      <th>1.0</th>\n",
       "      <td>0.2125</td>\n",
       "      <td>0.2705</td>\n",
       "      <td>0.482</td>\n",
       "    </tr>\n",
       "    <tr>\n",
       "      <th>2.0</th>\n",
       "      <td>0.2123</td>\n",
       "      <td>0.2725</td>\n",
       "      <td>0.478</td>\n",
       "    </tr>\n",
       "    <tr>\n",
       "      <th>3.0</th>\n",
       "      <td>0.1245</td>\n",
       "      <td>0.1701</td>\n",
       "      <td>0.302</td>\n",
       "    </tr>\n",
       "    <tr>\n",
       "      <th>4.0</th>\n",
       "      <td>0.1876</td>\n",
       "      <td>0.2485</td>\n",
       "      <td>0.426</td>\n",
       "    </tr>\n",
       "  </tbody>\n",
       "</table>\n",
       "</div>"
      ],
      "text/plain": [
       "        MAP  RPrecision  Precision at 10\n",
       "Run                                     \n",
       "1.0  0.2125      0.2705            0.482\n",
       "2.0  0.2123      0.2725            0.478\n",
       "3.0  0.1245      0.1701            0.302\n",
       "4.0  0.1876      0.2485            0.426"
      ]
     },
     "execution_count": 58,
     "metadata": {},
     "output_type": "execute_result"
    }
   ],
   "source": [
    "df = pd.DataFrame({\n",
    "    'Run' : map_list[:,0],\n",
    "    'MAP' : map_list[:,1],\n",
    "    'RPrecision' : rprec_list[:,1],\n",
    "    'Precision at 10' : prec_at_10_list[:,1]\n",
    "})\n",
    "df.set_index('Run',inplace=True)\n",
    "#df.style.apply(highlight_max,subset=['MAP','RPrecision','Precision at 10'])\n",
    "\n",
    "df"
   ]
  },
  {
   "cell_type": "code",
   "execution_count": 59,
   "metadata": {},
   "outputs": [
    {
     "data": {
      "image/png": "[encoded data removed]",
      "text/plain": [
       "<Figure size 1080x648 with 1 Axes>"
      ]
     },
     "metadata": {},
     "output_type": "display_data"
    }
   ],
   "source": [
    "plt.figure(figsize=[15,9])\n",
    "# plot per i map\n",
    "plt.plot(map_list[:,0],map_list[:,1],'ro')\n",
    "# plot per gli rprec\n",
    "plt.plot(rprec_list[:,0],rprec_list[:,1],'go')\n",
    "# plot per i prec at 10\n",
    "plt.plot(p10_list[:,0],prec_at_10_list[:,1],'bo')\n",
    "plt.axis([0,5,0.10,0.6])\n",
    "plt.legend(['Map','Rprecision','Precision at 10'],fontsize='x-large')\n",
    "plt.show()"
   ]
  },
  {
   "cell_type": "markdown",
   "metadata": {},
   "source": [
    "La tabella e il grafico evidenziano i risultati delle diverse run. Come si può vedere, i risultati migliori si sono ottenuti con le prime due run, mentre la run 3 è quella che ha ottenuto i risultati peggiori."
   ]
  },
  {
   "cell_type": "markdown",
   "metadata": {},
   "source": [
    "## Test statistico Anova 1-way\n",
    "Boxplot delle run"
   ]
  },
  {
   "cell_type": "code",
   "execution_count": 1,
   "metadata": {},
   "outputs": [],
   "source": [
    "import numpy as np\n",
    "import scipy.stats as statis\n",
    "\n",
    "#definisco una funzione per estrarre i valori di precision di cui sono interessato dai rispettivi\n",
    "#file .eval (convertito in txt perché python non è in grado di effettuare il parsing di questo tipo di file)\n",
    "def eval_extractor(path,n_topics,prec_idx):\n",
    "    # apro file in lettura\n",
    "    file = open(path,'r')\n",
    "    lines = file.readlines()\n",
    "    # inizializzo array vuota\n",
    "    precs = np.zeros(n_topics)\n",
    "    # itero le righe del file estraendo tutte le precision\n",
    "    for i in range(len(precs)):\n",
    "        raw = lines[prec_idx].split()\n",
    "        precs[i] = float(raw[2])\n",
    "        prec_idx += 27\n",
    "    # restituisco l'array riempito\n",
    "    return precs"
   ]
  },
  {
   "cell_type": "code",
   "execution_count": 61,
   "metadata": {},
   "outputs": [
    {
     "data": {
      "image/png": "[encoded data removed]",
      "text/plain": [
       "<Figure size 1080x720 with 1 Axes>"
      ]
     },
     "metadata": {},
     "output_type": "display_data"
    }
   ],
   "source": [
    "run_1 = eval_extractor('run1/eval/BM25b0.75_0.txt',50,3)\n",
    "run_2 = eval_extractor('run2/eval/TF_IDF_1.txt',50,3)\n",
    "run_3 = eval_extractor('run3/eval/BM25b0.75_2.txt',50,3)\n",
    "run_4 = eval_extractor('run4/eval/TF_IDF_3.txt',50,3)\n",
    "plt.figure(figsize=[15,10])\n",
    "plt.boxplot([run_1,run_2,run_3,run_4], labels=['run1','run2','run3','run4'])\n",
    "plt.show()"
   ]
  },
  {
   "cell_type": "markdown",
   "metadata": {},
   "source": [
    "Tramite i boxplot è possibile rappresentare le diverse distribuzioni normali in maniera più comoda.Tuttavia non è sufficiente per concludere che siano diverse l'una dalle altre, motivo per il quale si ricorre al test ANOVA 1-way."
   ]
  },
  {
   "cell_type": "markdown",
   "metadata": {},
   "source": [
    "Il test ANOVA permette di verificare se due o più sistemi sono uguali, partendo dalla $\\textit{null hypothesis}$, ovvero che tutti i sistemi siano uguali: <br>\n",
    "> $H_{0} : \\mu_{1} = \\mu_{2} = \\mu_{3} = \\mu_{4}$  \n",
    "\n",
    "Se l'ipotesi nulla viene rifiutata, significa che vi è una differenza significativa fra almeno due sistemi. Nel test ANOVA questa condizione si verifica quando il valore di P (nel gergo definito più esattamente come il livello di significatività) è inferiore a quello di $\\alpha$ , con $\\alpha=0.05$ tipicamente.\n",
    "\n",
    "Per calcolare il valore di P, è necessario calcolare prima quello di F. Nel nostro test F non verrà preso in considerazione, tuttavia esso mette in correlazione i valori attesi delle diverse distribuzioni. Più grande è F, maggiori sono le differenze fra due o più distribuzioni."
   ]
  },
  {
   "cell_type": "code",
   "execution_count": 62,
   "metadata": {},
   "outputs": [
    {
     "name": "stdout",
     "output_type": "stream",
     "text": [
      "Test Anova 1-way:\n",
      "Valore di F:  3.278594613256783\n",
      "Valore di P:  0.022075545923528662\n"
     ]
    }
   ],
   "source": [
    "# tramite la funzione f_oneway() della libreria scipy.stats eseguo il test anova 1-way\n",
    "stats,p = statis.f_oneway(run_1,run_2,run_3,run_4)\n",
    "\n",
    "print('Test Anova 1-way:')\n",
    "print('Valore di F: ',stats)\n",
    "print('Valore di P: ',p)"
   ]
  },
  {
   "cell_type": "markdown",
   "metadata": {},
   "source": [
    "In base ai risultati ottenuti dal test ANOVA 1-way, si può già concludere che essendo P < 0.05, l'ipotesi nulla viene rifiutata e quindi almeno una delle run è diversa da un'altra run. \n",
    "\n",
    "Per comprendere quali sistemi appartengono al 'top group', si rende necessario il test di Tukey, il quale permette di stabilire quali sistemi hanno violato l'ipotesi nulla."
   ]
  },
  {
   "cell_type": "code",
   "execution_count": 63,
   "metadata": {},
   "outputs": [
    {
     "name": "stdout",
     "output_type": "stream",
     "text": [
      "Multiple Comparison of Means - Tukey HSD,FWER=0.05\n",
      "============================================\n",
      "group1 group2 meandiff  lower  upper  reject\n",
      "--------------------------------------------\n",
      " 3.0    4.0    0.0632  -0.0208 0.1472 False \n",
      " 3.0    2.0    0.0878   0.0038 0.1718  True \n",
      " 3.0    1.0    0.0881   0.004  0.1721  True \n",
      " 4.0    2.0    0.0246  -0.0594 0.1087 False \n",
      " 4.0    1.0    0.0249  -0.0591 0.1089 False \n",
      " 2.0    1.0    0.0003  -0.0838 0.0843 False \n",
      "--------------------------------------------\n"
     ]
    },
    {
     "data": {
      "image/png": "[encoded data removed]",
      "text/plain": [
       "<Figure size 864x720 with 1 Axes>"
      ]
     },
     "metadata": {},
     "output_type": "display_data"
    }
   ],
   "source": [
    "# importo i metodi necessari per eseguire il test tukey hsd dalla libreria statsmodels\n",
    "from statsmodels.stats.multicomp import pairwise_tukeyhsd\n",
    "from statsmodels.stats.multicomp import MultiComparison\n",
    "\n",
    "# riordino la lista che contiene i map delle run in modo crescente\n",
    "# la funzione MultiComparison ordina graficamente in modo diverso rispetto all'analoga funzione\n",
    "# matlab spiegata a lezione, dove gli indici venivano ordinati in modo decrescente\n",
    "sorted_map_list = map_list[map_list[:,1].argsort()]\n",
    "# unisco tutte le precision dei topics delle diverse run in un unico array\n",
    "scores = np.concatenate((run_1,run_2,run_3,run_4))\n",
    "# inizializzo e creo un array con i diversi labels\n",
    "labels = np.zeros(200)\n",
    "labels[:50] = 1\n",
    "labels[50:100] = 2\n",
    "labels[100:150] = 3\n",
    "labels[150:] = 4\n",
    "# unisco le array labels e scores (operazione non strettamente necessaria, ma in questo modo costruisco \n",
    "# un'unica matrice che contiene nella prima colonna i labels delle run e nella seconda tutti i valori di precision)\n",
    "data = np.column_stack((labels,scores))\n",
    "\n",
    "# oggetto che permette il confronto dei dati delle diverse run\n",
    "mc = MultiComparison(data[:,1],data[:,0],group_order=sorted_map_list[:,0])\n",
    "# test tukey hsd (il parametro alpha=0.05 è di default, ma potrebbe essere cambiato)\n",
    "result = mc.tukeyhsd()\n",
    "# plot del test tukey hsd\n",
    "result.plot_simultaneous(comparison_name=3,figsize=(12,10))\n",
    "# stampa della tabella con i vari confronti tra le run e la verifica che la null hypothesis sia stata o no rifiuta\n",
    "# segue commento\n",
    "print(result)"
   ]
  },
  {
   "cell_type": "markdown",
   "metadata": {},
   "source": [
    "La tabella mostra che l'ipotesi nulla è rifiutata nel confronto fra le run 2 e 3 e fra le run 1 e 3. Il risultato è ulteriormente evidenziato nel plot. Si può quindi concludere che la run 3 non appartenga sicuramete al top group. Per quanto riguarda la run 4, essa non viola l'ipotesi nulla con nessuna delle altre run, tuttavia il suo intervallo di confidenza evidenzia una certa differenza con le run 1 e 2 che con la run 3. Per questo motivo, si potrebbe non considerarla appartenente al top group che quindi è formato dalle run 1 e 2, che anche nei test precedenti avevano dimostrato risultati migliori."
   ]
  },
  {
   "cell_type": "markdown",
   "metadata": {},
   "source": [
    "Si ripete ora il test statistico anche per R-Prec e Precision at 10\n",
    "\n",
    "## R-Prec"
   ]
  },
  {
   "cell_type": "code",
   "execution_count": 64,
   "metadata": {},
   "outputs": [
    {
     "data": {
      "image/png": "[encoded data removed]",
      "text/plain": [
       "<Figure size 1080x720 with 1 Axes>"
      ]
     },
     "metadata": {},
     "output_type": "display_data"
    }
   ],
   "source": [
    "r1_rprec = eval_extractor('run1/eval/BM25b0.75_0.txt',50,4)\n",
    "r2_rprec = eval_extractor('run2/eval/TF_IDF_1.txt',50,4)\n",
    "r3_rprec = eval_extractor('run3/eval/BM25b0.75_2.txt',50,4)\n",
    "r4_rprec = eval_extractor('run4/eval/TF_IDF_3.txt',50,4)\n",
    "plt.figure(figsize=[15,10])\n",
    "plt.boxplot([r1_rprec,r2_rprec,r3_rprec,r4_rprec], labels=['run1','run2','run3','run4'])\n",
    "plt.show()"
   ]
  },
  {
   "cell_type": "markdown",
   "metadata": {},
   "source": [
    "Valgono le stesse considerazioni fatte per la Mean Average Precision."
   ]
  },
  {
   "cell_type": "code",
   "execution_count": 65,
   "metadata": {},
   "outputs": [
    {
     "name": "stdout",
     "output_type": "stream",
     "text": [
      "Test Anova 1-way:\n",
      "Valore di F:  4.560140109254023\n",
      "Valore di P:  0.00411143680902894\n"
     ]
    }
   ],
   "source": [
    "stats,p = statis.f_oneway(r1_rprec,r2_rprec,r3_rprec,r4_rprec)\n",
    "\n",
    "print('Test Anova 1-way:')\n",
    "print('Valore di F: ',stats)\n",
    "print('Valore di P: ',p)"
   ]
  },
  {
   "cell_type": "markdown",
   "metadata": {},
   "source": [
    "Anche in questo caso il valore di P è inferiore a 0.05, quindi esiste una distribuzione che ha violato la null hypothesis. Il valore di F in questo caso è ancora maggiore, il che implica che le distribuzioni dovrebbero essere ancora più sparse."
   ]
  },
  {
   "cell_type": "code",
   "execution_count": 66,
   "metadata": {},
   "outputs": [
    {
     "name": "stdout",
     "output_type": "stream",
     "text": [
      "Multiple Comparison of Means - Tukey HSD,FWER=0.05\n",
      "============================================\n",
      "group1 group2 meandiff  lower  upper  reject\n",
      "--------------------------------------------\n",
      " 3.0    4.0    0.0784  -0.0042 0.1609 False \n",
      " 3.0    1.0    0.1004   0.0179 0.1829  True \n",
      " 3.0    2.0    0.1023   0.0198 0.1849  True \n",
      " 4.0    1.0    0.022   -0.0605 0.1046 False \n",
      " 4.0    2.0    0.024   -0.0586 0.1065 False \n",
      " 1.0    2.0    0.0019  -0.0806 0.0845 False \n",
      "--------------------------------------------\n"
     ]
    },
    {
     "data": {
      "image/png": "[encoded data removed]",
      "text/plain": [
       "<Figure size 864x720 with 1 Axes>"
      ]
     },
     "metadata": {},
     "output_type": "display_data"
    }
   ],
   "source": [
    "# riordino la lista che contiene i map delle run in modo crescente\n",
    "# la funzione MultiComparison ordina graficamente in modo diverso rispetto all'analoga funzione\n",
    "# matlab spiegata a lezione, dove gli indici venivano ordinati in modo decrescente\n",
    "sorted_rprec_list = rprec_list[rprec_list[:,1].argsort()]\n",
    "# unisco tutte le precision dei topics delle diverse run in un unico array\n",
    "scores_rprec = np.concatenate((r1_rprec,r2_rprec,r3_rprec,r4_rprec))\n",
    "# inizializzo e creo un array con i diversi labels\n",
    "labels_rprec = np.zeros(200)\n",
    "labels_rprec[:50] = 1\n",
    "labels_rprec[50:100] = 2\n",
    "labels_rprec[100:150] = 3\n",
    "labels_rprec[150:] = 4\n",
    "# unisco le array labels e scores (operazione non strettamente necessaria, ma in questo modo costruisco \n",
    "# un'unica matrice che contiene nella prima colonna i labels delle run e nella seconda tutti i valori di precision)\n",
    "data_rprec = np.column_stack((labels_rprec,scores_rprec))\n",
    "\n",
    "# oggetto che permette il confronto dei dati delle diverse run\n",
    "mc_rprec = MultiComparison(data_rprec[:,1],data_rprec[:,0],group_order=sorted_rprec_list[:,0])\n",
    "# test tukey hsd (il parametro alpha=0.05 è di default, ma potrebbe essere cambiato)\n",
    "result_rprec = mc_rprec.tukeyhsd()\n",
    "# plot del test tukey hsd\n",
    "result_rprec.plot_simultaneous(comparison_name=3,figsize=(12,10))\n",
    "# stampa della tabella con i vari confronti tra le run e la verifica che la null hypothesis sia stata o no rifiuta\n",
    "# segue commento\n",
    "print(result_rprec)"
   ]
  },
  {
   "cell_type": "markdown",
   "metadata": {},
   "source": [
    "In base al confronto fra le R-Precs, l'unica considerazione aggiuntiva che si può fare rispetto al confronto fra i MAP è che lo spazio risulta più allungato rispetto a quello precedente, come ci si aspettava dall'osservazione del valore di F. Questo può dipendere anche dai valori di RPrec che sono più grandi rispetto ai corrispettivi MAP. Non è tuttavia possibile giungere a conclusioni sostanzialmente diverse rispetto a quelle fatte in precedenza."
   ]
  },
  {
   "cell_type": "markdown",
   "metadata": {},
   "source": [
    "## Precision at 10"
   ]
  },
  {
   "cell_type": "code",
   "execution_count": 67,
   "metadata": {},
   "outputs": [
    {
     "data": {
      "image/png": "[encoded data removed]",
      "text/plain": [
       "<Figure size 1080x720 with 1 Axes>"
      ]
     },
     "metadata": {},
     "output_type": "display_data"
    }
   ],
   "source": [
    "r1_p10 = eval_extractor('run1/eval/BM25b0.75_0.txt',50,19)\n",
    "r2_p10 = eval_extractor('run2/eval/TF_IDF_1.txt',50,19)\n",
    "r3_p10 = eval_extractor('run3/eval/BM25b0.75_2.txt',50,19)\n",
    "r4_p10 = eval_extractor('run4/eval/TF_IDF_3.txt',50,19)\n",
    "plt.figure(figsize=[15,10])\n",
    "plt.boxplot([r1_p10,r2_p10,r3_p10,r4_p10], labels=['run1','run2','run3','run4'])\n",
    "plt.show()"
   ]
  },
  {
   "cell_type": "markdown",
   "metadata": {},
   "source": [
    "Anche in questo caso, il confronto fra i boxplot evidenzia le stesse considerazioni, se non che i boxplot risultano essere più allungati e quindi meno \"informativi\". Per quanto riguarda la run3, si osserva che il boxplot ha una distribuzione schiacciata verso il basso, ad ulteriore conferma della sua inefficienza."
   ]
  },
  {
   "cell_type": "code",
   "execution_count": 68,
   "metadata": {},
   "outputs": [
    {
     "name": "stdout",
     "output_type": "stream",
     "text": [
      "Test Anova 1-way:\n",
      "Valore di F:  3.8806068502793134\n",
      "Valore di P:  0.010032554063785504\n"
     ]
    }
   ],
   "source": [
    "stats,p = statis.f_oneway(r1_p10,r2_p10,r3_p10,r4_p10)\n",
    "\n",
    "print('Test Anova 1-way:')\n",
    "print('Valore di F: ',stats)\n",
    "print('Valore di P: ',p)"
   ]
  },
  {
   "cell_type": "markdown",
   "metadata": {},
   "source": [
    "Anche in questa situazione, come era lecito aspettarsi visti i risultati negativi ottenuti dalla terza run, vi sono delle distribuzioni che vìolano la null hypothesis."
   ]
  },
  {
   "cell_type": "code",
   "execution_count": 69,
   "metadata": {},
   "outputs": [
    {
     "name": "stdout",
     "output_type": "stream",
     "text": [
      "Multiple Comparison of Means - Tukey HSD,FWER=0.05\n",
      "============================================\n",
      "group1 group2 meandiff  lower  upper  reject\n",
      "--------------------------------------------\n",
      " 3.0    4.0    0.0784  -0.0042 0.1609 False \n",
      " 3.0    1.0    0.1004   0.0179 0.1829  True \n",
      " 3.0    2.0    0.1023   0.0198 0.1849  True \n",
      " 4.0    1.0    0.022   -0.0605 0.1046 False \n",
      " 4.0    2.0    0.024   -0.0586 0.1065 False \n",
      " 1.0    2.0    0.0019  -0.0806 0.0845 False \n",
      "--------------------------------------------\n"
     ]
    },
    {
     "data": {
      "image/png": "[encoded data removed]",
      "text/plain": [
       "<Figure size 864x720 with 1 Axes>"
      ]
     },
     "metadata": {},
     "output_type": "display_data"
    }
   ],
   "source": [
    "# riordino la lista che contiene i map delle run in modo crescente\n",
    "# la funzione MultiComparison ordina graficamente in modo diverso rispetto all'analoga funzione\n",
    "# matlab spiegata a lezione, dove gli indici venivano ordinati in modo decrescente\n",
    "sorted_p10_list = p10_list[p10_list[:,1].argsort()]\n",
    "# unisco tutte le precision dei topics delle diverse run in un unico array\n",
    "scores_p10 = np.concatenate((r1_p10,r2_p10,r3_p10,r4_p10))\n",
    "# inizializzo e creo un array con i diversi labels\n",
    "labels_p10 = np.zeros(200)\n",
    "labels_p10[:50] = 1\n",
    "labels_p10[50:100] = 2\n",
    "labels_p10[100:150] = 3\n",
    "labels_p10[150:] = 4\n",
    "# unisco le array labels e scores (operazione non strettamente necessaria, ma in questo modo costruisco \n",
    "# un'unica matrice che contiene nella prima colonna i labels delle run e nella seconda tutti i valori di precision)\n",
    "data_p10 = np.column_stack((labels_p10,scores_p10))\n",
    "\n",
    "# oggetto che permette il confronto dei dati delle diverse run\n",
    "mc_p10 = MultiComparison(data_p10[:,1],data_p10[:,0],group_order=sorted_p10_list[:,0])\n",
    "# test tukey hsd (il parametro alpha=0.05 è di default, ma potrebbe essere cambiato)\n",
    "result_p10 = mc_rprec.tukeyhsd()\n",
    "# plot del test tukey hsd\n",
    "result_p10.plot_simultaneous(comparison_name=3,figsize=(12,10))\n",
    "# stampa della tabella con i vari confronti tra le run e la verifica che la null hypothesis sia stata o no rifiuta\n",
    "# segue commento\n",
    "print(result_p10)"
   ]
  },
  {
   "cell_type": "markdown",
   "metadata": {},
   "source": [
    "Come evidenziato nel grafico, sono sempre i confronti fra le run 1 e 3 e run 2 e 3 a vìolare la null hypothesis. Pertanto si conclude una volta in più che le run 1 e 2 sono quelle appartententi al \"top group\", mente per la run 4 si può solo evidenziare una differenza qualitativa per via grafica, la quale non risulta però ancora significativamente diversa."
   ]
  },
  {
   "cell_type": "code",
   "execution_count": null,
   "metadata": {},
   "outputs": [],
   "source": []
  }
 ],
 "metadata": {
  "kernelspec": {
   "display_name": "Python 3",
   "language": "python",
   "name": "python3"
  },
  "language_info": {
   "codemirror_mode": {
    "name": "ipython",
    "version": 3
   },
   "file_extension": ".py",
   "mimetype": "text/x-python",
   "name": "python",
   "nbconvert_exporter": "python",
   "pygments_lexer": "ipython3",
   "version": "3.6.5"
  }
 },
 "nbformat": 4,
 "nbformat_minor": 2
}
